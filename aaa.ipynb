{
 "cells": [
  {
   "cell_type": "code",
   "execution_count": 4,
   "metadata": {},
   "outputs": [
    {
     "name": "stdout",
     "output_type": "stream",
     "text": [
      "enter height :23.5\n",
      "enter weight :19\n",
      "Height = 23.5\n",
      "Weight = 19\n",
      "Perimeter = 85.0\n",
      "Area = 446.5\n"
     ]
    }
   ],
   "source": [
    "#第三章\n",
    "# 1.\n",
    "x=eval(input('enter height :'))\n",
    "y=eval(input('enter weight :'))\n",
    "area=x*y\n",
    "perimeter=(x+y)*2\n",
    "print('Height =',x)\n",
    "print('Weight =',y)\n",
    "print('Perimeter =',perimeter)\n",
    "print('Area =',area)\n"
   ]
  },
  {
   "cell_type": "code",
   "execution_count": 12,
   "metadata": {},
   "outputs": [
    {
     "name": "stdout",
     "output_type": "stream",
     "text": [
      "輸入正三角形的邊長:2\n",
      "height = 1.7320508075688772\n",
      "area = 1.7320508075688772\n"
     ]
    }
   ],
   "source": [
    "# 2.\n",
    "import math\n",
    "x=eval(input('輸入正三角形的邊長:'))\n",
    "print('height =', 3**(1/2)*(1/2)*x)\n",
    "print('area =', 3**(1/2)*(1/4)*x**2)"
   ]
  },
  {
   "cell_type": "code",
   "execution_count": 14,
   "metadata": {},
   "outputs": [
    {
     "name": "stdout",
     "output_type": "stream",
     "text": [
      "分 =10\n",
      "秒 =25\n",
      "公里 =3\n",
      "Speed = 10.8 miles/hour\n"
     ]
    }
   ],
   "source": [
    "# 3.\n",
    "x=eval(input('分 ='))\n",
    "y=eval(input('秒 ='))\n",
    "z=eval(input('公里 ='))\n",
    "print('Speed =',((z/(x/60+y/3600))/1.6),'miles/hour')"
   ]
  },
  {
   "cell_type": "code",
   "execution_count": 15,
   "metadata": {},
   "outputs": [
    {
     "name": "stdout",
     "output_type": "stream",
     "text": [
      "miles =2\n",
      "Km = 3.2\n"
     ]
    }
   ],
   "source": [
    "# 4.\n",
    "a=eval(input('miles ='))\n",
    "print('Km =',a*1.6)"
   ]
  },
  {
   "cell_type": "code",
   "execution_count": 16,
   "metadata": {},
   "outputs": [
    {
     "name": "stdout",
     "output_type": "stream",
     "text": [
      "輸入華氏溫度 :23\n",
      "攝氏溫度 : -5.0\n"
     ]
    }
   ],
   "source": [
    "# 5.\n",
    "a=eval(input('輸入華氏溫度 :'))\n",
    "print('攝氏溫度 :',(a-32)*5/9)"
   ]
  },
  {
   "cell_type": "code",
   "execution_count": 18,
   "metadata": {},
   "outputs": [
    {
     "name": "stdout",
     "output_type": "stream",
     "text": [
      "輸入三個整數2,2,2\n",
      "總和 = 6\n",
      "平均數 = 2.0\n"
     ]
    }
   ],
   "source": [
    "# 6.\n",
    "a,b,c=eval(input('輸入三個整數'))\n",
    "print(\"總和 =\",a+b+c)\n",
    "print(\"平均數 =\",(a+b+c)/3)"
   ]
  },
  {
   "cell_type": "code",
   "execution_count": 22,
   "metadata": {},
   "outputs": [
    {
     "name": "stdout",
     "output_type": "stream",
     "text": [
      "輸入姓名 :aaa\n",
      "輸入學號 :32131651\n",
      "輸入地址 :哈哈哈\n",
      "姓名 : aaa\n",
      "學號 : 32131651\n",
      "地址 : 哈哈哈\n"
     ]
    }
   ],
   "source": [
    "# 7.\n",
    "a=input('輸入姓名 :')\n",
    "b=input('輸入學號 :')\n",
    "c=input('輸入地址 :')\n",
    "print('姓名 :',a)\n",
    "print('學號 :',b)\n",
    "print('地址 :',c)\n"
   ]
  },
  {
   "cell_type": "code",
   "execution_count": 27,
   "metadata": {},
   "outputs": [
    {
     "name": "stdout",
     "output_type": "stream",
     "text": [
      "輸入圓的半徑 :3\n",
      "面積 = 28.274333882308138\n",
      "周長 = 18.84955592153876\n"
     ]
    }
   ],
   "source": [
    "# 8.\n",
    "import math\n",
    "a=eval(input('輸入圓的半徑 :'))\n",
    "print(\"面積 =\",(a**2)*math.pi)\n",
    "print(\"周長 =\",(a*2)*math.pi)"
   ]
  },
  {
   "cell_type": "code",
   "execution_count": 28,
   "metadata": {},
   "outputs": [
    {
     "name": "stdout",
     "output_type": "stream",
     "text": [
      "輸入長,寬4,5\n",
      "面積 = 20\n",
      "周長 = 18\n"
     ]
    }
   ],
   "source": [
    "# 9.\n",
    "a,b=eval(input(\"輸入長,寬\"))\n",
    "print(\"面積 =\",a*b)\n",
    "print(\"周長 =\",(a+b)*2)"
   ]
  },
  {
   "cell_type": "code",
   "execution_count": 35,
   "metadata": {},
   "outputs": [
    {
     "name": "stdout",
     "output_type": "stream",
     "text": [
      "enter (x,y) :88,99\n",
      "-1970.6818181818182\n"
     ]
    }
   ],
   "source": [
    "# 10.\n",
    "x,y=eval(input('enter (x,y) :'))\n",
    "print(((3+4*x)/5)-(10*(y-5)*(x+y+5)/x)+9*(4/x+(9+x)/y))"
   ]
  },
  {
   "cell_type": "code",
   "execution_count": 38,
   "metadata": {},
   "outputs": [
    {
     "name": "stdout",
     "output_type": "stream",
     "text": [
      "enter three number (a,b,c)1,2,3\n",
      "-14.619047619047622\n"
     ]
    }
   ],
   "source": [
    "# 11.\n",
    "a,b,c=eval(input('enter three number (a,b,c)'))\n",
    "x=4/3*(a+34)\n",
    "y=9*(a+b*c)\n",
    "z=(3+3*(2+a))/(a+3*b)\n",
    "print(x-y+z)"
   ]
  },
  {
   "cell_type": "code",
   "execution_count": 2,
   "metadata": {},
   "outputs": [
    {
     "name": "stdout",
     "output_type": "stream",
     "text": [
      "輸入邊數,邊長5,6.5\n",
      "Area = 72.69017017488386\n"
     ]
    }
   ],
   "source": [
    "# 第四章\n",
    "# 1.\n",
    "import math\n",
    "x,y=eval(input('輸入邊數,邊長'))\n",
    "area=(x*y**2)/(4*math.tan(math.pi/x))\n",
    "print('Area =',area)"
   ]
  },
  {
   "cell_type": "code",
   "execution_count": 4,
   "metadata": {},
   "outputs": [
    {
     "name": "stdout",
     "output_type": "stream",
     "text": [
      "輸入座標(x1,y1) :2,1\n",
      "輸入座標(x2,y2) :5.5,8\n",
      "Distance = 7.826237921249264\n"
     ]
    }
   ],
   "source": [
    "# 2.\n",
    "import math\n",
    "x1,y1=eval(input('輸入座標(x1,y1) :'))\n",
    "x2,y2=eval(input('輸入座標(x2,y2) :'))\n",
    "print('Distance =',math.sqrt((x1-x2)**2+(y1-y2)**2))"
   ]
  },
  {
   "cell_type": "code",
   "execution_count": 5,
   "metadata": {},
   "outputs": [
    {
     "name": "stdout",
     "output_type": "stream",
     "text": [
      "輸入三角形三邊長 :3,4,5\n",
      "Area = 6.0\n"
     ]
    }
   ],
   "source": [
    "# 3.\n",
    "import math\n",
    "a,b,c=eval(input('輸入三角形三邊長 :'))\n",
    "s=(a+b+c)/2\n",
    "print('Area =',math.sqrt(s*(s-a)*(s-b)*(s-c)))"
   ]
  },
  {
   "cell_type": "code",
   "execution_count": 11,
   "metadata": {},
   "outputs": [
    {
     "name": "stdout",
     "output_type": "stream",
     "text": [
      "輸入ax^2+bx+c之係數(a,b,c):1,1,1\n",
      "此二元一次方程式的兩根 : -0.75 -0.25\n"
     ]
    }
   ],
   "source": [
    "# 4.\n",
    "import math\n",
    "a,b,c=eval(input('輸入ax^2+bx+c之係數(a,b,c):'))\n",
    "D=b^2-4*a*c\n",
    "print(\"此二元一次方程式的兩根 :\",((-b+D**1/2)/2*a),((-b-D**1/2)/2*a))"
   ]
  },
  {
   "cell_type": "code",
   "execution_count": 23,
   "metadata": {},
   "outputs": [
    {
     "name": "stdout",
     "output_type": "stream",
     "text": [
      "Enter point1 (latitude and longitude) in degree :39.55,-116.24\n",
      "Enter point2 (latitude and longitude) in degree :41.5,87.37\n",
      "The distance between the points is 15604.932312486775 km\n"
     ]
    }
   ],
   "source": [
    "# 5.\n",
    "import math\n",
    "x1,y1=eval(input('Enter point1 (latitude and longitude) in degree :'))\n",
    "x2,y2=eval(input('Enter point2 (latitude and longitude) in degree :'))\n",
    "radius=6371.01\n",
    "d=radius*math.acos(math.sin(x1)*math.sin(x2)+math.cos(x1)*math.cos(x2)*math.cos(y1-y2))\n",
    "print('The distance between the points is',d,'km')"
   ]
  },
  {
   "cell_type": "code",
   "execution_count": 6,
   "metadata": {},
   "outputs": [
    {
     "name": "stdout",
     "output_type": "stream",
     "text": [
      "輸入金額 :200\n",
      "無折扣,金額: 200\n"
     ]
    }
   ],
   "source": [
    "# 第五章\n",
    "# 1.\n",
    "x=eval(input('輸入金額 :'))\n",
    "if x>=5000 and x<15000:\n",
    "    print('9.5折,金額:',x*0.95)\n",
    "elif x>=15000 and x<25000:\n",
    "    print('9折,金額:',x*0.9)\n",
    "elif x>=25000 and x<35000:\n",
    "    print('8.5折,金額:',x*0.85)\n",
    "elif x>=35000:\n",
    "    print('8折,金額:',x*0.8)\n",
    "else:\n",
    "    print('無折扣,金額:',x)"
   ]
  },
  {
   "cell_type": "code",
   "execution_count": 12,
   "metadata": {},
   "outputs": [
    {
     "name": "stdout",
     "output_type": "stream",
     "text": [
      "輸入月份：13\n",
      "無此月份\n"
     ]
    }
   ],
   "source": [
    "# 2.\n",
    "a=eval(input('輸入月份：'))\n",
    "if a in range (1,4):\n",
    "    print('春天')\n",
    "elif a in range (4,7):\n",
    "    print('夏天')\n",
    "elif a in range (7,10):\n",
    "    print('秋天')\n",
    "elif a in range (10,13):\n",
    "    print('冬天')\n",
    "else:\n",
    "    print('無此月份')\n",
    "    "
   ]
  },
  {
   "cell_type": "code",
   "execution_count": 4,
   "metadata": {},
   "outputs": [
    {
     "name": "stdout",
     "output_type": "stream",
     "text": [
      "輸入歲數 :500\n",
      "敬老票 : 399元\n"
     ]
    }
   ],
   "source": [
    "# 3.\n",
    "a=eval(input('輸入歲數 :'))\n",
    "if a<5:\n",
    "    print('免費')\n",
    "elif a<=11:\n",
    "    print('兒童票 : 590元')\n",
    "elif a<=17:\n",
    "    print('青少年票 : 790元')\n",
    "elif a<=59:\n",
    "    print('成人票 : 890元')\n",
    "else:\n",
    "    print('敬老票 : 399元')"
   ]
  },
  {
   "cell_type": "code",
   "execution_count": 8,
   "metadata": {},
   "outputs": [
    {
     "name": "stdout",
     "output_type": "stream",
     "text": [
      "enter a number :5\n",
      "此數為5的倍數\n"
     ]
    }
   ],
   "source": [
    "# 4.\n",
    "a=eval(input('enter a number :'))\n",
    "if a%3==0 and a%5!=0:\n",
    "    print('此數為3的倍數')\n",
    "elif a%3!=0 and a%5==0:\n",
    "    print('此數為5的倍數')\n",
    "elif a%3==0 and a%5==0:\n",
    "    print('此數為3跟5的公倍數')\n",
    "else:\n",
    "    print('此數不為3或5的倍數')"
   ]
  },
  {
   "cell_type": "code",
   "execution_count": 8,
   "metadata": {},
   "outputs": [
    {
     "name": "stdout",
     "output_type": "stream",
     "text": [
      "輸入一字元 :5\n",
      "5 為數字\n"
     ]
    }
   ],
   "source": [
    "# 5.\n",
    "char=(input('輸入一字元 :'))\n",
    "if char>='a' and char<='z':\n",
    "    print(char,'為英文小寫')\n",
    "elif char>='A' and char<='Z':\n",
    "    print(char,'為英文大寫')\n",
    "elif char>='0' and char<='9':\n",
    "    print(char,'為數字')\n",
    "else:\n",
    "    print(char,'為特殊字元')\n",
    "\n"
   ]
  },
  {
   "cell_type": "code",
   "execution_count": 9,
   "metadata": {},
   "outputs": [
    {
     "name": "stdout",
     "output_type": "stream",
     "text": [
      "輸入綜合所淨額 :111111111\n",
      "全年應納稅額 48654899.95\n"
     ]
    }
   ],
   "source": [
    "# 6.\n",
    "a=eval(input('輸入綜合所淨額 :'))\n",
    "if a in range(0,540001):\n",
    "    print('全年應納稅額',a*0.05)\n",
    "elif a in range(540001,1210001):\n",
    "    print('全年應納稅額',a*0.12-37800)\n",
    "elif a in range(1210001,2420001):\n",
    "    print('全年應納稅額',a*0.2-134600)\n",
    "elif a in range(2420001,4530001):\n",
    "    print('全年應納稅額',a*0.3-376600)\n",
    "elif a in range(4530001,10310001):\n",
    "    print('全年應納稅額',a*0.04-829600)\n",
    "else:\n",
    "    print('全年應納稅額',a*0.45-1345100)"
   ]
  },
  {
   "cell_type": "code",
   "execution_count": 13,
   "metadata": {},
   "outputs": [
    {
     "name": "stdout",
     "output_type": "stream",
     "text": [
      "輸入一座標(x,y) :9,9\n",
      "( 9 , 9 ) 在圓外\n"
     ]
    }
   ],
   "source": [
    "# 7.\n",
    "import math\n",
    "x,y=eval(input('輸入一座標(x,y) :'))\n",
    "if math.sqrt(x**2+y**2)<10:\n",
    "    print('(',x,',',y,')','在圓內')\n",
    "else:\n",
    "    print('(',x,',',y,')','在圓外')"
   ]
  },
  {
   "cell_type": "code",
   "execution_count": null,
   "metadata": {},
   "outputs": [],
   "source": [
    "# 8.\n",
    "a=input('輸入四位數字 :')\n",
    "if str(a)==str(a)[::-1]:\n",
    "    print(a,\"是迴文數字\")\n",
    "else:\n",
    "    print(a,\"不是迴文數字\")"
   ]
  },
  {
   "cell_type": "code",
   "execution_count": 25,
   "metadata": {},
   "outputs": [
    {
     "name": "stdout",
     "output_type": "stream",
     "text": [
      "輸入三角形三邊長 :3,4,88\n",
      "無法構成三角形\n"
     ]
    }
   ],
   "source": [
    "# 9.\n",
    "import math\n",
    "s1,s2,s3=eval(input('輸入三角形三邊長 :'))\n",
    "s=(s1+s2+s3)/2\n",
    "if s1>s2+s3 or s2>s1+s3 or s3>s1+s2:\n",
    "    print('無法構成三角形')\n",
    "else:\n",
    "    print('Area =',math.sqrt(s*(s-s1)*(s-s2)*(s-s3)))"
   ]
  },
  {
   "cell_type": "code",
   "execution_count": 47,
   "metadata": {},
   "outputs": [
    {
     "name": "stdout",
     "output_type": "stream",
     "text": [
      "Is your birthday in set1?\n",
      " 1   3   5   7\n",
      " 9  11  13  15\n",
      "17  19  21  23\n",
      "25  27  29  31\n",
      "\n",
      "Enter 1 for Yes and 0 for No: 1\n",
      "Is your birthday in set2?\n",
      " 2   3   6   7\n",
      "10  11  14  15\n",
      "18  19  22  23\n",
      "26  27  30  31\n",
      "\n",
      "Enter 1 for Yes and 0 for No: 1\n",
      "Is your birthday in set3?\n",
      " 4   5   6   7\n",
      "12  13  14  15\n",
      "20  21  22  23\n",
      "28  29  30  31\n",
      "\n",
      "Enter 1 for Yes and 0 for No: 0\n",
      "Is your birthday in set1?\n",
      " 8   9  10  11\n",
      "12  13  14  15\n",
      "24  25  26  27\n",
      "28  29  30  31\n",
      "\n",
      "Enter 1 for Yes and 0 for No: 1\n",
      "Is your birthday in set1?\n",
      "16  17  18  19\n",
      "20  21  22  23\n",
      "24  25  26  27\n",
      "28  29  30  31\n",
      "\n",
      "Enter 1 for Yes and 0 for No: 1\n",
      "Your birthday is 24\n"
     ]
    }
   ],
   "source": [
    "# 10.\n",
    "day = 0\n",
    "question1 = \"Is your birthday in set1?\\n\" + \\\n",
    "        \" 1   3   5   7\\n\" + \\\n",
    "        \" 9  11  13  15\\n\" + \\\n",
    "        \"17  19  21  23\\n\" + \\\n",
    "        \"25  27  29  31\\n\" + \\\n",
    "        \"\\nEnter 1 for Yes and 0 for No: \"\n",
    "answer = eval(input(question1))\n",
    "\n",
    "if answer == 1:\n",
    "    day += 1\n",
    "\n",
    "question2 = \"Is your birthday in set2?\\n\" + \\\n",
    "        \" 2   3   6   7\\n\" + \\\n",
    "        \"10  11  14  15\\n\" + \\\n",
    "        \"18  19  22  23\\n\" + \\\n",
    "        \"26  27  30  31\\n\" + \\\n",
    "        \"\\nEnter 1 for Yes and 0 for No: \"\n",
    "answer = eval(input(question2))\n",
    "\n",
    "if answer == 1:\n",
    "    day += 2\n",
    "day = 0\n",
    "question3 = \"Is your birthday in set3?\\n\" + \\\n",
    "        \" 4   5   6   7\\n\" + \\\n",
    "        \"12  13  14  15\\n\" + \\\n",
    "        \"20  21  22  23\\n\" + \\\n",
    "        \"28  29  30  31\\n\" + \\\n",
    "        \"\\nEnter 1 for Yes and 0 for No: \"\n",
    "answer = eval(input(question3))\n",
    "\n",
    "if answer == 1:\n",
    "    day += 4\n",
    "\n",
    "question4 = \"Is your birthday in set1?\\n\" + \\\n",
    "        \" 8   9  10  11\\n\" + \\\n",
    "        \"12  13  14  15\\n\" + \\\n",
    "        \"24  25  26  27\\n\" + \\\n",
    "        \"28  29  30  31\\n\" + \\\n",
    "        \"\\nEnter 1 for Yes and 0 for No: \"\n",
    "answer = eval(input(question4))\n",
    "\n",
    "if answer == 1:\n",
    "    day += 8\n",
    "\n",
    "question5 = \"Is your birthday in set1?\\n\" + \\\n",
    "        \"16  17  18  19\\n\" + \\\n",
    "        \"20  21  22  23\\n\" + \\\n",
    "        \"24  25  26  27\\n\" + \\\n",
    "        \"28  29  30  31\\n\" + \\\n",
    "        \"\\nEnter 1 for Yes and 0 for No: \"\n",
    "answer = eval(input(question5))\n",
    "\n",
    "if answer == 1:\n",
    "    day += 16\n",
    "\n",
    "print(\"Your birthday is\", day)\n"
   ]
  },
  {
   "cell_type": "code",
   "execution_count": 2,
   "metadata": {},
   "outputs": [
    {
     "name": "stdout",
     "output_type": "stream",
     "text": [
      "total : 45.124450303050196\n"
     ]
    }
   ],
   "source": [
    "# 第六章\n",
    "# 1.\n",
    "total=0\n",
    "for k in range (3,100,2):\n",
    "    total+=((k-2)/k)\n",
    "print('total :',total)\n",
    "# total=0\n",
    "# k=1\n",
    "# while k<=97:\n",
    "#     total+=(k/k+2)\n",
    "#     k+=2\n",
    "# print('total :',total)\n",
    "# print(k)\n"
   ]
  },
  {
   "cell_type": "code",
   "execution_count": null,
   "metadata": {},
   "outputs": [],
   "source": [
    "# 2.\n",
    "k=eval(input('輸入員工人數 :'))\n",
    "a=eval(input('輸入銷售金額 :'))\n",
    "    \n",
    "    "
   ]
  },
  {
   "cell_type": "code",
   "execution_count": 46,
   "metadata": {},
   "outputs": [
    {
     "name": "stdout",
     "output_type": "stream",
     "text": [
      "from left to right , total = 11.579323839415952\n",
      "from right to left , total = 11.57932383941597\n"
     ]
    }
   ],
   "source": [
    "# 3.\n",
    "n1=1\n",
    "total1=0\n",
    "while n1<=60000:\n",
    "    total1+=(1/n1)\n",
    "    n1+=1\n",
    "print('from left to right , total =',total1)\n",
    "\n",
    "\n",
    "n=60000\n",
    "total=0\n",
    "while n<=60000 and n>=1:\n",
    "    total+=(1/n)\n",
    "    n-=1\n",
    "print('from right to left , total =',total)"
   ]
  },
  {
   "cell_type": "code",
   "execution_count": 48,
   "metadata": {},
   "outputs": [
    {
     "name": "stdout",
     "output_type": "stream",
     "text": [
      "total : 0.23496300908607512\n"
     ]
    }
   ],
   "source": [
    "# 4.\n",
    "a=2\n",
    "total=0\n",
    "while a<=199:\n",
    "    total+=((1/((a**1/2)+(a+1)**1/2))-(1/(((a+1)**1/2)+(a+2)**1/2)))\n",
    "    a+=2\n",
    "print('total :',total)"
   ]
  },
  {
   "cell_type": "code",
   "execution_count": null,
   "metadata": {},
   "outputs": [],
   "source": [
    "# 5.\n",
    "y=0\n",
    "a=52800*1.02**y\n",
    "while a<70000:\n",
    "    y+=1\n",
    "    continue\n",
    "print(y,'years')"
   ]
  },
  {
   "cell_type": "code",
   "execution_count": null,
   "metadata": {},
   "outputs": [],
   "source": []
  },
  {
   "cell_type": "code",
   "execution_count": null,
   "metadata": {},
   "outputs": [],
   "source": []
  },
  {
   "cell_type": "code",
   "execution_count": null,
   "metadata": {},
   "outputs": [],
   "source": []
  },
  {
   "cell_type": "code",
   "execution_count": null,
   "metadata": {},
   "outputs": [],
   "source": []
  },
  {
   "cell_type": "code",
   "execution_count": null,
   "metadata": {},
   "outputs": [],
   "source": []
  }
 ],
 "metadata": {
  "kernelspec": {
   "display_name": "Python 3",
   "language": "python",
   "name": "python3"
  },
  "language_info": {
   "codemirror_mode": {
    "name": "ipython",
    "version": 3
   },
   "file_extension": ".py",
   "mimetype": "text/x-python",
   "name": "python",
   "nbconvert_exporter": "python",
   "pygments_lexer": "ipython3",
   "version": "3.8.3"
  }
 },
 "nbformat": 4,
 "nbformat_minor": 2
}
